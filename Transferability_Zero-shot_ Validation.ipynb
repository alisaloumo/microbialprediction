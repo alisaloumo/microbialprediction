{
 "cells": [
  {
   "cell_type": "markdown",
   "id": "9ca4c2a4-f488-4ca0-a6f8-125c64a89c99",
   "metadata": {},
   "source": [
    "## Read Unseen DATA Watershed"
   ]
  },
  {
   "cell_type": "code",
   "execution_count": 3,
   "id": "613229c4-1da5-48f9-bcfa-5b4608dd303f",
   "metadata": {},
   "outputs": [
    {
     "data": {
      "text/html": [
       "<div>\n",
       "<style scoped>\n",
       "    .dataframe tbody tr th:only-of-type {\n",
       "        vertical-align: middle;\n",
       "    }\n",
       "\n",
       "    .dataframe tbody tr th {\n",
       "        vertical-align: top;\n",
       "    }\n",
       "\n",
       "    .dataframe thead th {\n",
       "        text-align: right;\n",
       "    }\n",
       "</style>\n",
       "<table border=\"1\" class=\"dataframe\">\n",
       "  <thead>\n",
       "    <tr style=\"text-align: right;\">\n",
       "      <th></th>\n",
       "      <th>E.coli</th>\n",
       "      <th>Log10_E.coli</th>\n",
       "    </tr>\n",
       "  </thead>\n",
       "  <tbody>\n",
       "    <tr>\n",
       "      <th>0</th>\n",
       "      <td>82</td>\n",
       "      <td>1.913814</td>\n",
       "    </tr>\n",
       "    <tr>\n",
       "      <th>1</th>\n",
       "      <td>88</td>\n",
       "      <td>1.944483</td>\n",
       "    </tr>\n",
       "    <tr>\n",
       "      <th>2</th>\n",
       "      <td>120</td>\n",
       "      <td>2.079181</td>\n",
       "    </tr>\n",
       "    <tr>\n",
       "      <th>3</th>\n",
       "      <td>54</td>\n",
       "      <td>1.732394</td>\n",
       "    </tr>\n",
       "    <tr>\n",
       "      <th>4</th>\n",
       "      <td>40</td>\n",
       "      <td>1.602060</td>\n",
       "    </tr>\n",
       "  </tbody>\n",
       "</table>\n",
       "</div>"
      ],
      "text/plain": [
       "   E.coli  Log10_E.coli\n",
       "0      82      1.913814\n",
       "1      88      1.944483\n",
       "2     120      2.079181\n",
       "3      54      1.732394\n",
       "4      40      1.602060"
      ]
     },
     "execution_count": 3,
     "metadata": {},
     "output_type": "execute_result"
    }
   ],
   "source": [
    "import numpy as np\n",
    "\n",
    "# Drop rows with any missing values\n",
    "data_cleaned = df.dropna()\n",
    "# Transform the 'E.coli' column to log10 scale\n",
    "data_cleaned['Log10_E.coli'] = np.log10(data_cleaned['E.coli'])\n",
    "\n",
    "# Display the first few rows to confirm the transformation\n",
    "data_cleaned[['E.coli', 'Log10_E.coli']].head()"
   ]
  },
  {
   "cell_type": "code",
   "execution_count": 4,
   "id": "903cb961-8fa7-4353-9576-a019952a2fd2",
   "metadata": {},
   "outputs": [],
   "source": [
    "import pandas as pd\n",
    "import numpy as np\n",
    "\n",
    "# Load the Study Area 3 validation data\n",
    "new_data = pd.read_excel('C:/Users/as22dt/OneDrive - Florida State University/Analysis/Data/Scenario 0/Validation_DATA(StudyArea3) Scenario0Data.xlsx')\n",
    "\n",
    "# Create 'Log10_E.coli' column\n",
    "new_data['Log10_E.coli'] = np.log10(new_data['E.coli'])\n",
    "\n",
    "# Save the updated file if you want\n",
    "new_data.to_excel('C:/Users/as22dt/OneDrive - Florida State University/Analysis/Data/Scenario 0/Validation_DATA(StudyArea3)_with_log10.xlsx', index=False)\n"
   ]
  },
  {
   "cell_type": "markdown",
   "id": "9726bf11-735d-48f5-9f67-57698433fe27",
   "metadata": {},
   "source": [
    "## Pull Saved Model to test zero-shot"
   ]
  },
  {
   "cell_type": "code",
   "execution_count": 5,
   "id": "dc341ef5-5ecc-4772-9056-dfe1f6fd8e9a",
   "metadata": {},
   "outputs": [],
   "source": [
    "import pandas as pd\n",
    "import numpy as np\n",
    "import joblib\n",
    "\n",
    "# === Load model and feature list ===\n",
    "model = joblib.load('C:/Users/as22dt/OneDrive - Florida State University/Analysis/Data/Scenario 0/ETR_ecoli_model.pkl')\n",
    "final_features = joblib.load('C:/Users/as22dt/OneDrive - Florida State University/Analysis/Data/Scenario 0/final_features.pkl')\n",
    "\n",
    "# === Load new dataset ===\n",
    "new_data = pd.read_excel('C:/Users/as22dt/OneDrive - Florida State University/Analysis/Data/Scenario 0/Validation_DATA(StudyArea3)_with_log10.xlsx')\n",
    "\n",
    "# Ensure all needed features are present\n",
    "missing_features = [feat for feat in final_features if feat not in new_data.columns]\n",
    "if missing_features:\n",
    "    raise ValueError(f\"Missing features in new data: {missing_features}\")\n",
    "\n",
    "# === Apply log1p transformation (consistent with training) ===\n",
    "X_new_log1p = np.log1p(new_data[final_features].where(new_data[final_features] > 0))\n",
    "X_new_log1p = X_new_log1p.replace([np.inf, -np.inf], np.nan).fillna(0)\n",
    "\n",
    "# === Run prediction ===\n",
    "y_new_pred = model.predict(X_new_log1p)\n",
    "\n",
    "# === Output or save predictions ===\n",
    "new_data['Predicted_Value'] = y_new_pred\n",
    "\n",
    "# Save results\n",
    "new_data.to_csv('C:/Users/as22dt/OneDrive - Florida State University/Analysis/Data/Scenario2/new_data_with_predictions.csv', index=False)\n"
   ]
  },
  {
   "cell_type": "markdown",
   "id": "e6b99871-e91c-40b0-83b5-b268ab6249ee",
   "metadata": {},
   "source": [
    "## Test Zero-shot"
   ]
  },
  {
   "cell_type": "code",
   "execution_count": 8,
   "id": "f782b5c5-2377-4c15-bed7-1b2ebffff458",
   "metadata": {},
   "outputs": [
    {
     "name": "stdout",
     "output_type": "stream",
     "text": [
      "\n",
      " Zero-shot Prediction:\n",
      "R²: 0.6305\n",
      "MSE: 0.1457\n",
      "RMSE: 0.3817\n",
      "MAE: 0.3023\n",
      "MAPE: 0.1373\n",
      "\n",
      "Observed vs. Predicted values saved to 'observed_vs_predicted_custom_interval.xlsx'.\n"
     ]
    }
   ],
   "source": [
    "import pandas as pd\n",
    "import numpy as np\n",
    "import joblib\n",
    "from sklearn.metrics import mean_squared_error, mean_absolute_error, r2_score, mean_absolute_percentage_error\n",
    "from sklearn.preprocessing import MinMaxScaler\n",
    "\n",
    "# === Load model and feature list ===\n",
    "model = joblib.load('C:/Users/as22dt/OneDrive - Florida State University/Analysis/Data/Scenario 0/ETR_ecoli_model.pkl')\n",
    "final_features = joblib.load('C:/Users/as22dt/OneDrive - Florida State University/Analysis/Data/Scenario 0/final_features.pkl')\n",
    "\n",
    "# === Load new dataset ===\n",
    "new_data = pd.read_excel('C:/Users/as22dt/OneDrive - Florida State University/Analysis/Data/Scenario 0/Validation_DATA(StudyArea3)_with_log10.xlsx')\n",
    "\n",
    "# === Prepare Data ===\n",
    "# Ensure 'Date' is datetime\n",
    "new_data['Date'] = pd.to_datetime(new_data['Date'])\n",
    "new_data['Year'] = new_data['Date'].dt.year\n",
    "\n",
    "# Create 'Log10_E.coli' if only raw E.coli is present\n",
    "if 'Log10_E.coli' not in new_data.columns and 'E.coli' in new_data.columns:\n",
    "    new_data['Log10_E.coli'] = np.log10(new_data['E.coli'])\n",
    "\n",
    "# Check for missing features\n",
    "missing_features = [feat for feat in final_features if feat not in new_data.columns]\n",
    "if missing_features:\n",
    "    raise ValueError(f\"Missing features: {missing_features}\")\n",
    "\n",
    "# Apply log1p transformation to selected features\n",
    "X_all_log1p = np.log1p(new_data[final_features].where(new_data[final_features] > 0))\n",
    "X_all_log1p = X_all_log1p.replace([np.inf, -np.inf], np.nan).fillna(0)\n",
    "\n",
    "# Target variable\n",
    "target = 'Log10_E.coli'\n",
    "y_all_true = new_data[target]\n",
    "\n",
    "    # Predict\n",
    "    y_interval_pred = model.predict(X_interval)\n",
    "\n",
    "    # Calculate metrics\n",
    "    r2 = r2_score(y_interval_true, y_interval_pred)\n",
    "    mse = mean_squared_error(y_interval_true, y_interval_pred)\n",
    "    rmse = np.sqrt(mse)\n",
    "    mae = mean_absolute_error(y_interval_true, y_interval_pred)\n",
    "    mape = mean_absolute_percentage_error(y_interval_true, y_interval_pred)\n",
    "\n",
    "    print(f\"\\n Zero-shot Prediction:\")\n",
    "   # print(f\"Samples: {sample_count}\")\n",
    "    print(f\"R²: {r2:.4f}\")\n",
    "    print(f\"MSE: {mse:.4f}\")\n",
    "    print(f\"RMSE: {rmse:.4f}\")\n",
    "    print(f\"MAE: {mae:.4f}\")\n",
    "    print(f\"MAPE: {mape:.4f}\")\n",
    "\n",
    "    # Save observed vs predicted to Excel\n",
    "    output_df = pd.DataFrame({\n",
    "        'Date': date_interval.values,\n",
    "        'Observed_Log10_E.coli': y_interval_true.values,\n",
    "        'Predicted_Log10_E.coli': y_interval_pred,\n",
    "        'Observed_E.coli': 10 ** y_interval_true.values,\n",
    "        'Predicted_E.coli': 10 ** y_interval_pred\n",
    "    })\n",
    "\n",
    "    output_path = 'observed_vs_predicted_custom_interval.xlsx'\n",
    "    with pd.ExcelWriter(output_path, engine='xlsxwriter', datetime_format='yyyy-mm-dd') as writer:\n",
    "        output_df.to_excel(writer, sheet_name='Results', index=False)\n",
    "    print(f\"\\nObserved vs. Predicted values saved to '{output_path}'.\")\n"
   ]
  },
  {
   "cell_type": "code",
   "execution_count": null,
   "id": "f323985f-47fa-4a44-87a8-c37ed470dbf6",
   "metadata": {},
   "outputs": [],
   "source": []
  }
 ],
 "metadata": {
  "kernelspec": {
   "display_name": "Python 3 (ipykernel)",
   "language": "python",
   "name": "python3"
  },
  "language_info": {
   "codemirror_mode": {
    "name": "ipython",
    "version": 3
   },
   "file_extension": ".py",
   "mimetype": "text/x-python",
   "name": "python",
   "nbconvert_exporter": "python",
   "pygments_lexer": "ipython3",
   "version": "3.12.7"
  }
 },
 "nbformat": 4,
 "nbformat_minor": 5
}
